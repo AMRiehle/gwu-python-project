{
 "cells": [
  {
   "cell_type": "code",
   "execution_count": null,
   "metadata": {},
   "outputs": [],
   "source": [
    "import pandas as pd\n",
    "import numpy as np\n",
    "house_df = pd.read_csv(\"Arlington_County_Sales_2017.csv\")\n",
    "house_df.head()\n",
    "pd.set_option(\"display.max_columns\", 500)\n",
    "counter = 0\n",
    "for column in house_df:\n",
    "\n",
    "    if house_df[column].isnull().sum()>= 1000:\n",
    "        house_df.drop(column, axis=1, inplace = True)"
   ]
  },
  {
   "cell_type": "code",
   "execution_count": null,
   "metadata": {},
   "outputs": [],
   "source": [
    "house_df.drop('Remarks', axis=1, inplace=True)\n",
    "house_df.drop('Amenities', axis=1, inplace=True)\n",
    "house_df.drop('Unnamed: 0', axis=1, inplace=True)\n",
    "house_df['Baths'] = df['BathsFull'] + (df['BathsHalf'] * 0.5)\n",
    "house_df.drop('County', axis=1, inplace=True)\n",
    "house_df.drop('CountyTaxPaymentFreq', axis=1, inplace=True)\n",
    "house_df.drop('Foreclosure', axis=1, inplace=True)\n",
    "house_df.drop('ImprovementAssessmentPaymentFreq', axis=1, inplace=True)\n",
    "house_df.drop('LandAssessmentPaymentFreq', axis=1, inplace=True)\n",
    "house_df.drop('PropertyType', axis=1, inplace=True)\n",
    "house_df.drop('TotalOpenHouses', axis=1, inplace=True)\n",
    "house_df.drop('DomProperty', axis=1, inplace=True)"
   ]
  },
  {
   "cell_type": "code",
   "execution_count": null,
   "metadata": {},
   "outputs": [],
   "source": [
    "house_df.to_csv(\"trimmed_df_2.csv\")"
   ]
  }
 ],
 "metadata": {
  "kernelspec": {
   "display_name": "Python 3",
   "language": "python",
   "name": "python3"
  },
  "language_info": {
   "codemirror_mode": {
    "name": "ipython",
    "version": 3
   },
   "file_extension": ".py",
   "mimetype": "text/x-python",
   "name": "python",
   "nbconvert_exporter": "python",
   "pygments_lexer": "ipython3",
   "version": "3.6.4"
  }
 },
 "nbformat": 4,
 "nbformat_minor": 2
}
