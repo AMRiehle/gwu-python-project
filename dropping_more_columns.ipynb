{
 "cells": [
  {
   "cell_type": "code",
   "execution_count": 1,
   "metadata": {},
   "outputs": [],
   "source": [
    "import pandas as pd\n",
    "df = pd.read_csv(\"trimmed_df.csv\")"
   ]
  },
  {
   "cell_type": "code",
   "execution_count": 3,
   "metadata": {},
   "outputs": [],
   "source": [
    "df.drop('Remarks', axis=1, inplace=True)\n",
    "df.drop('Amenities', axis=1, inplace=True)\n",
    "df.drop('Unnamed: 0', axis=1, inplace=True)\n",
    "df['Baths'] = df['BathsFull'] + (df['BathsHalf'] * 0.5)\n",
    "df.drop('County', axis=1, inplace=True)\n",
    "df.drop('CountyTaxPaymentFreq', axis=1, inplace=True)\n",
    "df.drop('Foreclosure', axis=1, inplace=True)\n",
    "df.drop('ImprovementAssessmentPaymentFreq', axis=1, inplace=True)\n",
    "df.drop('LandAssessmentPaymentFreq', axis=1, inplace=True)\n",
    "df.drop('PropertyType', axis=1, inplace=True)\n",
    "df.drop('TotalOpenHouses', axis=1, inplace=True)\n",
    "df.drop('DomProperty', axis=1, inplace=True)"
   ]
  },
  {
   "cell_type": "code",
   "execution_count": 4,
   "metadata": {},
   "outputs": [
    {
     "data": {
      "text/plain": [
       "Index(['FullStreetAddress', 'Appliances', 'AssessmentYear', 'Attic', 'Baths',\n",
       "       'BathsFull', 'BathsHalf', 'Beds', 'CityName', 'CloseDate', 'ClosePrice',\n",
       "       'ContractDate', 'CountyTax', 'DaysOnMarket', 'Fireplaces', 'Heating',\n",
       "       'HOA', 'HotWater', 'ImprovementAssessmentAmount', 'InteriorFeatures',\n",
       "       'LandAssessmentAmount', 'Stories', 'ListDate', 'ListPrice',\n",
       "       'ListingLowPrice', 'ListingType', 'Longitude', 'ListingID',\n",
       "       'OriginalListPrice', 'Ownership', 'Parking', 'ShowDays', 'StreetName',\n",
       "       'StreetNumber', 'Style', 'ListingTaxID', 'TotalAssessment',\n",
       "       'TotalShowings', 'LivingArea', 'TotalTaxes', 'TotalTours', 'Type',\n",
       "       'YearBuilt', 'Zip4', 'PostalCode'],\n",
       "      dtype='object')"
      ]
     },
     "execution_count": 4,
     "metadata": {},
     "output_type": "execute_result"
    }
   ],
   "source": [
    "df.columns"
   ]
  },
  {
   "cell_type": "code",
   "execution_count": 5,
   "metadata": {},
   "outputs": [],
   "source": [
    "df.to_csv(\"trimmed_df_2.csv\")"
   ]
  }
 ],
 "metadata": {
  "kernelspec": {
   "display_name": "Python 3",
   "language": "python",
   "name": "python3"
  },
  "language_info": {
   "codemirror_mode": {
    "name": "ipython",
    "version": 3
   },
   "file_extension": ".py",
   "mimetype": "text/x-python",
   "name": "python",
   "nbconvert_exporter": "python",
   "pygments_lexer": "ipython3",
   "version": "3.6.4"
  }
 },
 "nbformat": 4,
 "nbformat_minor": 2
}
